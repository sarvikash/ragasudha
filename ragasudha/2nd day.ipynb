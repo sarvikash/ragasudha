{
 "cells": [
  {
   "cell_type": "code",
   "execution_count": 1,
   "id": "95c4ee46",
   "metadata": {},
   "outputs": [],
   "source": [
    "import numpy as np"
   ]
  },
  {
   "cell_type": "code",
   "execution_count": 2,
   "id": "1510cdad",
   "metadata": {},
   "outputs": [
    {
     "name": "stdout",
     "output_type": "stream",
     "text": [
      "shape: (1, 2, 2, 2)\n",
      "dimesion: 4\n",
      "size: 8\n",
      "datatype: int32\n",
      "itemsize: 4\n"
     ]
    }
   ],
   "source": [
    "c = [[[[1,2],[3,4]],[[5,6],[7,8]]]]\n",
    "arr = np.array(c)\n",
    "print(\"shape:\",arr.shape)\n",
    "print(\"dimesion:\",arr.ndim)\n",
    "print(\"size:\",arr.size)\n",
    "print(\"datatype:\",arr.dtype)\n",
    "print(\"itemsize:\",arr.itemsize)"
   ]
  },
  {
   "cell_type": "code",
   "execution_count": null,
   "id": "2a8f3009",
   "metadata": {},
   "outputs": [],
   "source": []
  }
 ],
 "metadata": {
  "kernelspec": {
   "display_name": "Python 3 (ipykernel)",
   "language": "python",
   "name": "python3"
  },
  "language_info": {
   "codemirror_mode": {
    "name": "ipython",
    "version": 3
   },
   "file_extension": ".py",
   "mimetype": "text/x-python",
   "name": "python",
   "nbconvert_exporter": "python",
   "pygments_lexer": "ipython3",
   "version": "3.9.7"
  }
 },
 "nbformat": 4,
 "nbformat_minor": 5
}
